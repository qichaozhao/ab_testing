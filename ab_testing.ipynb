{
 "cells": [
  {
   "cell_type": "markdown",
   "metadata": {},
   "source": [
    "# Sample Size Estimation\n",
    "\n",
    "There are actually two different cases we need to consider:\n",
    "\n",
    "1. Sample estimation for binomial variables (proportions).\n",
    "2. Sample estimation for continuous variables (means).\n",
    "\n",
    "We can get general formulas for both sample size estimation cases from `(1)` [here](https://www.itl.nist.gov/div898/handbook/prc/section2/prc242.htm) and `(2)` [here](https://www.itl.nist.gov/div898/handbook/prc/section2/prc222.htm).\n",
    "\n",
    "For proportions, this looks like:\n",
    "\n",
    "$$ n \\geq \\left(\\frac{Z_{1-\\alpha}\\sqrt{p_{1}(1 - p{1})} + Z_{1-\\beta}\\sqrt{p_{2}(1 - p{2})}}{\\mu^*}\\right)^2 $$\n",
    "\n",
    "For means, this looks like:\n",
    "\n",
    "$$ n \\geq \\left(\\cfrac{Z_{\\alpha} + Z_{1-\\beta}}{\\cfrac{\\mu^*}{\\sigma}}\\right)^2 $$\n",
    "\n",
    "The quantities are as follows:\n",
    "\n",
    "- $ Z_{1-\\alpha} $: the Z-score corresponding to our significance level $ 1-\\alpha $.\n",
    "- $ Z_{1-\\beta} $: the Z-score corresponding to $ 1-\\beta $ where $ 1-\\beta $ is our statistical power.\n",
    "- $ \\mu^* $: the minimum detectable effect (MDE)\n",
    "- $ p_{1} $: the expected click through rate of the control\n",
    "- $ p_{2} $: the expected click through rate of the test\n",
    "- $ \\sigma $: the (pooled) standard deviation of the samples.\n",
    "\n",
    "Note: The above equations above are for a one-tailed tests, which should be our primary mode of testing for A/B tests. For two-tailed tests, you should estimate by using the Z-score for $ 1-\\frac{\\alpha}{2} $.\n",
    "\n",
    "Okay, so now we have the theory at hand, let's code up a simple sample size estimation calculator we can use!"
   ]
  },
  {
   "cell_type": "code",
   "execution_count": 99,
   "metadata": {
    "collapsed": true
   },
   "outputs": [],
   "source": [
    "import scipy.stats as st\n",
    "import math\n",
    "\n",
    "def get_sample_estimate(sig, power, mde, p1, sigma1=None, var_type='binomial', tail=1):\n",
    "    \"\"\"\n",
    "    sig: stat sig level (usually 0.05 or 0.01)\n",
    "    power: stat power required\n",
    "    mde: minimum detectable effect\n",
    "    p1: value of control group test statistic\n",
    "    sigma1: value of control group test statistic std (required only for continuous var_type)\n",
    "    var_type: one of \"binomial\" or \"continuous\"\n",
    "    tail: 1 or 2\n",
    "    \"\"\"\n",
    "    \n",
    "    # Calculate the Z_alpha given the sig and tail\n",
    "    if tail == 1:\n",
    "        z_alpha = st.norm.ppf(1 - sig)\n",
    "    elif tail == 2:\n",
    "        z_alpha = st.norm.ppf(1 - sig/2)\n",
    "    else:\n",
    "        raise Exception(\"tail can only be 1 or 2\")\n",
    "        \n",
    "    z_beta = st.norm.ppf(power)\n",
    "    p2 = p1 + mde\n",
    "    \n",
    "    # Now we are ready to estimate the number of samples    \n",
    "    if var_type == 'binomial':\n",
    "        n = ((z_alpha*math.sqrt(p1*(1-p1)) + z_beta*math.sqrt(p2*(1-p2))) / mde)**2\n",
    "    elif var_type == 'continuous':\n",
    "        n = ((z_alpha + z_beta) / (mde/sigma1))**2\n",
    "    else:\n",
    "        raise Exception(\"var_type can only be binomial or continuous\")\n",
    "        \n",
    "    return n"
   ]
  },
  {
   "cell_type": "markdown",
   "metadata": {},
   "source": [
    "# Running the Experiment"
   ]
  },
  {
   "cell_type": "code",
   "execution_count": 100,
   "metadata": {},
   "outputs": [
    {
     "name": "stdout",
     "output_type": "stream",
     "text": [
      "4086.9977932231523 samples required\n"
     ]
    }
   ],
   "source": [
    "# Calculate sample size required:\n",
    "p1 = 0.04\n",
    "mde = 0.01\n",
    "sig = 0.01\n",
    "power = 0.8\n",
    "\n",
    "n = get_sample_estimate(sig, power, mde, p1, tail=1)\n",
    "print(\"{} samples required\".format(n))"
   ]
  },
  {
   "cell_type": "code",
   "execution_count": 101,
   "metadata": {
    "collapsed": true
   },
   "outputs": [],
   "source": [
    "import random\n",
    "\n",
    "def draw_samples(p, n):\n",
    "    \"\"\"\n",
    "    Draw n samples with probability p of being 1 (and 1-p of being 0)\n",
    "    \"\"\"\n",
    "    \n",
    "    def draw_sample(p):\n",
    "        return 1 if random.uniform(0, 1.0) <= p else 0\n",
    "    \n",
    "    o = []\n",
    "    for i in range(0, n):\n",
    "        o.append(draw_sample(p))\n",
    "    \n",
    "    return o"
   ]
  },
  {
   "cell_type": "code",
   "execution_count": 139,
   "metadata": {
    "scrolled": true
   },
   "outputs": [],
   "source": [
    "control_group = draw_samples(0.04, 5000)\n",
    "\n",
    "# To simulate the landing page having a 1.5% lift, we draw samples with p = 0.055 for our test group\n",
    "test_group = draw_samples(0.055, 5000)"
   ]
  },
  {
   "cell_type": "markdown",
   "metadata": {},
   "source": [
    "# Evaluating Results"
   ]
  },
  {
   "cell_type": "code",
   "execution_count": 140,
   "metadata": {},
   "outputs": [
    {
     "name": "stdout",
     "output_type": "stream",
     "text": [
      "Control CTR: 4.24%\n",
      "Test CTR: 5.779999999999999%\n"
     ]
    }
   ],
   "source": [
    "# Calculating click through rate for test and control group\n",
    "ctr_ctrl = sum(control_group) / len(control_group)\n",
    "ctr_test = sum(test_group) / len(test_group)\n",
    "\n",
    "print(\"Control CTR: {}%\".format(ctr_ctrl * 100))\n",
    "print(\"Test CTR: {}%\".format(ctr_test * 100))"
   ]
  },
  {
   "cell_type": "code",
   "execution_count": 144,
   "metadata": {},
   "outputs": [
    {
     "data": {
      "text/plain": [
       "Power_divergenceResult(statistic=29.205285225642722, pvalue=6.510138201463369e-08)"
      ]
     },
     "execution_count": 144,
     "metadata": {},
     "output_type": "execute_result"
    }
   ],
   "source": [
    "f_obs = [len(list(filter(lambda v: v == 0, test_group))), len(list(filter(lambda v: v == 1, test_group)))]\n",
    "f_exp = [len(list(filter(lambda v: v == 0, control_group))), len(list(filter(lambda v: v == 1, control_group)))]\n",
    "\n",
    "st.chisquare(f_obs, f_exp)"
   ]
  },
  {
   "cell_type": "markdown",
   "metadata": {},
   "source": [
    "As a matter of principle, we should also check the statistical power we obtain for this test, although it should not have am impact on our results.\n",
    "\n",
    "There are two ways to do this: first, we could run simulations in order to see in what percentage of simulated experiments did our test reject the null hypothesis (given we know that the new landing page increases the CTR), or, there is also an approximation formula we can use (taken from [here](https://math.stackexchange.com/a/3262418)).\n",
    "\n",
    "$$ \\lambda = n \\sum_{i=0}^{1}\\frac{(O_{i} - E_{i})^2}{E_{i}} $$"
   ]
  },
  {
   "cell_type": "code",
   "execution_count": 168,
   "metadata": {},
   "outputs": [
    {
     "name": "stdout",
     "output_type": "stream",
     "text": [
      "Power:  1.0\n"
     ]
    }
   ],
   "source": [
    "r_int = []\n",
    "for i in (0, 1):\n",
    "    \n",
    "    o = len(list(filter(lambda v: v == i, test_group)))\n",
    "    e = len(list(filter(lambda v: v == i, control_group)))\n",
    "    \n",
    "    r_int.append((o - e)**2 / e)\n",
    "    \n",
    "print(\"Power: \", st.chi2.cdf(sum(r_int) * 5000, 1))"
   ]
  },
  {
   "cell_type": "code",
   "execution_count": null,
   "metadata": {
    "collapsed": true
   },
   "outputs": [],
   "source": []
  }
 ],
 "metadata": {
  "kernelspec": {
   "display_name": "Python 3",
   "language": "python",
   "name": "python3"
  },
  "language_info": {
   "codemirror_mode": {
    "name": "ipython",
    "version": 3
   },
   "file_extension": ".py",
   "mimetype": "text/x-python",
   "name": "python",
   "nbconvert_exporter": "python",
   "pygments_lexer": "ipython3",
   "version": "3.6.8"
  }
 },
 "nbformat": 4,
 "nbformat_minor": 2
}
